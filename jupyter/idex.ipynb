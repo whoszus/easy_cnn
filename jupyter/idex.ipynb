{
  "cells": [
    {
      "cell_type": "code",
      "execution_count": 1,
      "outputs": [
        {
          "name": "stdout",
          "text": [
            "tensor([[0.6280, 0.3581, 0.1611],\n        [0.4829, 0.1498, 0.4968],\n        [0.2547, 0.7792, 0.7355],\n        [0.1797, 0.0129, 0.6158],\n        [0.6889, 0.7640, 0.0602]])\n"
          ],
          "output_type": "stream"
        }
      ],
      "source": "# from __future__ import print_function\n\nimport csv \n\nout_put_file_name \u003d \u0027./data/trainData.csv\u0027\n\n# Data handling \ndef _data_treating():\n    \n    with open(\u0027./data/dataSet.csv\u0027) as originData:\n        reader \u003d csv.reader(originData)\n        tran_data_line \u003d []\n        for line in reader :\n            tran_data_line.append(line[1])\n            ",
      "metadata": {
        "pycharm": {
          "metadata": false,
          "name": "#%% \n",
          "is_executing": false
        }
      }
    }
  ],
  "metadata": {
    "language_info": {
      "codemirror_mode": {
        "name": "ipython",
        "version": 2
      },
      "file_extension": ".py",
      "mimetype": "text/x-python",
      "name": "python",
      "nbconvert_exporter": "python",
      "pygments_lexer": "ipython2",
      "version": "2.7.6"
    },
    "kernelspec": {
      "name": "python3",
      "language": "python",
      "display_name": "Python 3"
    },
    "stem_cell": {
      "cell_type": "raw",
      "source": "",
      "metadata": {
        "pycharm": {
          "metadata": false
        }
      }
    }
  },
  "nbformat": 4,
  "nbformat_minor": 0
}