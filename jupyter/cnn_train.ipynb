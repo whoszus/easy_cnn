{
  "cells": [
    {
      "cell_type": "code",
      "execution_count": 1,
      "metadata": {
        "collapsed": true,
        "pycharm": {
          "is_executing": false
        }
      },
      "outputs": [
        {
          "name": "stdout",
          "text": [
            "Downloading http://yann.lecun.com/exdb/mnist/train-images-idx3-ubyte.gz\n",
            "Downloading http://yann.lecun.com/exdb/mnist/train-labels-idx1-ubyte.gz\n",
            "Downloading http://yann.lecun.com/exdb/mnist/t10k-images-idx3-ubyte.gz\n",
            "Downloading http://yann.lecun.com/exdb/mnist/t10k-labels-idx1-ubyte.gz\n",
            "Processing...\nDone!\ntorch.Size([60000, 28, 28])\ntorch.Size([60000])\n",
            "CNN(\n  (conv1): Sequential(\n    (0): Conv2d(1, 16, kernel_size\u003d(5, 5), stride\u003d(1, 1), padding\u003d(2, 2))\n    (1): ReLU()\n    (2): MaxPool2d(kernel_size\u003d2, stride\u003d2, padding\u003d0, dilation\u003d1, ceil_mode\u003dFalse)\n  )\n  (conv2): Sequential(\n    (0): Conv2d(16, 32, kernel_size\u003d(5, 5), stride\u003d(1, 1), padding\u003d(2, 2))\n    (1): ReLU()\n    (2): MaxPool2d(kernel_size\u003d2, stride\u003d2, padding\u003d0, dilation\u003d1, ceil_mode\u003dFalse)\n  )\n  (out): Linear(in_features\u003d1568, out_features\u003d10, bias\u003dTrue)\n)\n",
            "Epoch:  0 | train loss: 2.3105 | test accuracy: 0.18\n",
            "Epoch:  0 | train loss: 0.6138 | test accuracy: 0.84\n",
            "Epoch:  0 | train loss: 0.3350 | test accuracy: 0.90\n",
            "Epoch:  0 | train loss: 0.3889 | test accuracy: 0.93\n",
            "Epoch:  0 | train loss: 0.0901 | test accuracy: 0.94\n",
            "Epoch:  0 | train loss: 0.1612 | test accuracy: 0.95\n",
            "Epoch:  0 | train loss: 0.1978 | test accuracy: 0.95\n",
            "Epoch:  0 | train loss: 0.1622 | test accuracy: 0.95\n",
            "Epoch:  0 | train loss: 0.1483 | test accuracy: 0.96\n",
            "Epoch:  0 | train loss: 0.0273 | test accuracy: 0.96\n",
            "Epoch:  0 | train loss: 0.0073 | test accuracy: 0.96\n",
            "Epoch:  0 | train loss: 0.3153 | test accuracy: 0.97\n",
            "Epoch:  0 | train loss: 0.0789 | test accuracy: 0.97\n",
            "Epoch:  0 | train loss: 0.0146 | test accuracy: 0.96\n",
            "Epoch:  0 | train loss: 0.1481 | test accuracy: 0.97\n",
            "Epoch:  0 | train loss: 0.0340 | test accuracy: 0.97\n",
            "Epoch:  0 | train loss: 0.1426 | test accuracy: 0.97\n",
            "Epoch:  0 | train loss: 0.0207 | test accuracy: 0.97\n",
            "Epoch:  0 | train loss: 0.0227 | test accuracy: 0.98\n",
            "Epoch:  0 | train loss: 0.0927 | test accuracy: 0.98\n",
            "Epoch:  0 | train loss: 0.0409 | test accuracy: 0.97\n",
            "Epoch:  0 | train loss: 0.0650 | test accuracy: 0.97\n",
            "Epoch:  0 | train loss: 0.0676 | test accuracy: 0.98\n",
            "Epoch:  0 | train loss: 0.0067 | test accuracy: 0.98\n",
            "[7 2 1 0 4 1 4 9 5 9] prediction number\n[7 2 1 0 4 1 4 9 5 9] real number\n"
          ],
          "output_type": "stream"
        },
        {
          "data": {
            "text/plain": "\u003cFigure size 640x480 with 1 Axes\u003e"
          },
          "metadata": {},
          "output_type": "display_data"
        },
        {
          "data": {
            "text/plain": "\u003cFigure size 640x480 with 1 Axes\u003e"
          },
          "metadata": {},
          "output_type": "display_data"
        },
        {
          "data": {
            "text/plain": "\u003cFigure size 640x480 with 1 Axes\u003e"
          },
          "metadata": {},
          "output_type": "display_data"
        },
        {
          "data": {
            "text/plain": "\u003cFigure size 640x480 with 1 Axes\u003e"
          },
          "metadata": {},
          "output_type": "display_data"
        },
        {
          "data": {
            "text/plain": "\u003cFigure size 640x480 with 1 Axes\u003e"
          },
          "metadata": {},
          "output_type": "display_data"
        },
        {
          "data": {
            "text/plain": "\u003cFigure size 640x480 with 1 Axes\u003e"
          },
          "metadata": {},
          "output_type": "display_data"
        },
        {
          "data": {
            "text/plain": "\u003cFigure size 640x480 with 1 Axes\u003e"
          },
          "metadata": {},
          "output_type": "display_data"
        },
        {
          "data": {
            "text/plain": "\u003cFigure size 640x480 with 1 Axes\u003e"
          },
          "metadata": {},
          "output_type": "display_data"
        },
        {
          "data": {
            "text/plain": "\u003cFigure size 640x480 with 1 Axes\u003e"
          },
          "metadata": {},
          "output_type": "display_data"
        },
        {
          "data": {
            "text/plain": "\u003cFigure size 640x480 with 1 Axes\u003e"
          },
          "metadata": {},
          "output_type": "display_data"
        },
        {
          "data": {
            "text/plain": "\u003cFigure size 640x480 with 1 Axes\u003e"
          },
          "metadata": {},
          "output_type": "display_data"
        },
        {
          "data": {
            "text/plain": "\u003cFigure size 640x480 with 1 Axes\u003e"
          },
          "metadata": {},
          "output_type": "display_data"
        },
        {
          "data": {
            "text/plain": "\u003cFigure size 640x480 with 1 Axes\u003e"
          },
          "metadata": {},
          "output_type": "display_data"
        },
        {
          "data": {
            "text/plain": "\u003cFigure size 640x480 with 1 Axes\u003e"
          },
          "metadata": {},
          "output_type": "display_data"
        },
        {
          "data": {
            "text/plain": "\u003cFigure size 640x480 with 1 Axes\u003e"
          },
          "metadata": {},
          "output_type": "display_data"
        },
        {
          "data": {
            "text/plain": "\u003cFigure size 640x480 with 1 Axes\u003e"
          },
          "metadata": {},
          "output_type": "display_data"
        },
        {
          "data": {
            "text/plain": "\u003cFigure size 640x480 with 1 Axes\u003e"
          },
          "metadata": {},
          "output_type": "display_data"
        },
        {
          "data": {
            "text/plain": "\u003cFigure size 640x480 with 1 Axes\u003e"
          },
          "metadata": {},
          "output_type": "display_data"
        },
        {
          "data": {
            "text/plain": "\u003cFigure size 640x480 with 1 Axes\u003e"
          },
          "metadata": {},
          "output_type": "display_data"
        },
        {
          "data": {
            "text/plain": "\u003cFigure size 640x480 with 1 Axes\u003e"
          },
          "metadata": {},
          "output_type": "display_data"
        },
        {
          "data": {
            "text/plain": "\u003cFigure size 640x480 with 1 Axes\u003e"
          },
          "metadata": {},
          "output_type": "display_data"
        },
        {
          "data": {
            "text/plain": "\u003cFigure size 640x480 with 1 Axes\u003e"
          },
          "metadata": {},
          "output_type": "display_data"
        },
        {
          "data": {
            "text/plain": "\u003cFigure size 640x480 with 1 Axes\u003e"
          },
          "metadata": {},
          "output_type": "display_data"
        },
        {
          "data": {
            "text/plain": "\u003cFigure size 640x480 with 1 Axes\u003e"
          },
          "metadata": {},
          "output_type": "display_data"
        },
        {
          "data": {
            "text/plain": "\u003cFigure size 640x480 with 1 Axes\u003e"
          },
          "metadata": {},
          "output_type": "display_data"
        }
      ],
      "source": "import torch\n\nimport os\n\n# third-party library\nimport torch\nimport torch.nn as nn\nimport torch.utils.data as Data\nimport torchvision\nimport matplotlib.pyplot as plt\n\n# torch.manual_seed(1)    # reproducible\n\n# Hyper Parameters\nEPOCH \u003d 1               # train the training data n times, to save time, we just train 1 epoch\nBATCH_SIZE \u003d 50\nLR \u003d 0.001              # learning rate\nDOWNLOAD_MNIST \u003d False\n\n\ntrain_data \u003d torchvision.datasets.MNIST(\n    root\u003d\u0027./mnist/\u0027,\n    train\u003dTrue,                                     # this is training data\n    transform\u003dtorchvision.transforms.ToTensor(),    # Converts a PIL.Image or numpy.ndarray to\n                                                    # torch.FloatTensor of shape (C x H x W) and normalize in the range [0.0, 1.0]\n    download\u003dDOWNLOAD_MNIST,\n)\n\n# Data Loader for easy mini-batch return in training, the image batch shape will be (50, 1, 28, 28)\ntrain_loader \u003d Data.DataLoader(dataset\u003dtrain_data, batch_size\u003dBATCH_SIZE, shuffle\u003dTrue)\n\n# pick 2000 samples to speed up testing\ntest_data \u003d torchvision.datasets.MNIST(root\u003d\u0027./mnist/\u0027, train\u003dFalse)\ntest_x \u003d torch.unsqueeze(test_data.test_data, dim\u003d1).type(torch.FloatTensor)[:2000]/255.   # shape from (2000, 28, 28) to (2000, 1, 28, 28), value in range(0,1)\ntest_y \u003d test_data.test_labels[:2000]\n\n\nclass CNN(nn.Module):\n    def __init__(self):\n        super(CNN, self).__init__()\n        self.conv1 \u003d nn.Sequential(         # input shape (1, 28, 28)\n            nn.Conv2d(\n                in_channels\u003d1,              # input height\n                out_channels\u003d16,            # n_filters\n                kernel_size\u003d5,              # filter size\n                stride\u003d1,                   # filter movement/step\n                padding\u003d2,                  # if want same width and length of this image after Conv2d, padding\u003d(kernel_size-1)/2 if stride\u003d1\n            ),                              # output shape (16, 28, 28)\n            nn.ReLU(),                      # activation\n            nn.MaxPool2d(kernel_size\u003d2),    # choose max value in 2x2 area, output shape (16, 14, 14)\n        )\n        self.conv2 \u003d nn.Sequential(         # input shape (16, 14, 14)\n            nn.Conv2d(16, 32, 5, 1, 2),     # output shape (32, 14, 14)\n            nn.ReLU(),                      # activation\n            nn.MaxPool2d(2),                # output shape (32, 7, 7)\n        )\n        self.out \u003d nn.Linear(32 * 7 * 7, 10)   # fully connected layer, output 10 classes\n\n    def forward(self, x):\n        x \u003d self.conv1(x)\n        x \u003d self.conv2(x)\n        x \u003d x.view(x.size(0), -1)           # flatten the output of conv2 to (batch_size, 32 * 7 * 7)\n        output \u003d self.out(x)\n        return output, x    # return x for visualization\n\n\ncnn \u003d CNN()\nprint(cnn)  # net architecture\n\noptimizer \u003d torch.optim.Adam(cnn.parameters(), lr\u003dLR)   # optimize all cnn parameters\nloss_func \u003d nn.CrossEntropyLoss()                       # the target label is not one-hotted\n\n# training and testing\nfor epoch in range(EPOCH):\n    for step, (b_x, b_y) in enumerate(train_loader):   # gives batch data, normalize x when iterate train_loader\n\n        output \u003d cnn(b_x)[0]               # cnn output\n        loss \u003d loss_func(output, b_y)   # cross entropy loss\n        optimizer.zero_grad()           # clear gradients for this training step\n        loss.backward()                 # backpropagation, compute gradients\n        optimizer.step()                # apply gradients\n\n        if step % 50 \u003d\u003d 0:\n            test_output, last_layer \u003d cnn(test_x)\n            pred_y \u003d torch.max(test_output, 1)[1].data.numpy()\n            accuracy \u003d float((pred_y \u003d\u003d test_y.data.numpy()).astype(int).sum()) / float(test_y.size(0))\n            print(\u0027Epoch: \u0027, epoch, \u0027| train loss: %.4f\u0027 % loss.data.numpy(), \u0027| test accuracy: %.2f\u0027 % accuracy)\n          \n\n# print 10 predictions from test data\ntest_output, _ \u003d cnn(test_x[:10])\npred_y \u003d torch.max(test_output, 1)[1].data.numpy()\nprint(pred_y, \u0027prediction number\u0027)\nprint(test_y[:10].numpy(), \u0027real number\u0027)\n"
    }
  ],
  "metadata": {
    "language_info": {
      "codemirror_mode": {
        "name": "ipython",
        "version": 2
      },
      "file_extension": ".py",
      "mimetype": "text/x-python",
      "name": "python",
      "nbconvert_exporter": "python",
      "pygments_lexer": "ipython2",
      "version": "2.7.6"
    },
    "kernelspec": {
      "name": "python3",
      "language": "python",
      "display_name": "Python 3"
    }
  },
  "nbformat": 4,
  "nbformat_minor": 0
}